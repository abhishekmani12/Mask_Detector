{
  "nbformat": 4,
  "nbformat_minor": 0,
  "metadata": {
    "colab": {
      "provenance": [],
      "collapsed_sections": [],
      "authorship_tag": "ABX9TyOw0XBzD2LcPqnC+NulKare"
    },
    "kernelspec": {
      "name": "python3",
      "display_name": "Python 3"
    },
    "language_info": {
      "name": "python"
    },
    "accelerator": "GPU"
  },
  "cells": [
    {
      "cell_type": "markdown",
      "source": [
        "**Dataset Download:**"
      ],
      "metadata": {
        "id": "4YTX3A-uSaGA"
      }
    },
    {
      "cell_type": "code",
      "execution_count": 1,
      "metadata": {
        "colab": {
          "base_uri": "https://localhost:8080/"
        },
        "id": "lANKm2L7R42L",
        "outputId": "b5622722-c7d2-4c25-cca9-29cac4288712"
      },
      "outputs": [
        {
          "output_type": "stream",
          "name": "stdout",
          "text": [
            "Looking in indexes: https://pypi.org/simple, https://us-python.pkg.dev/colab-wheels/public/simple/\n",
            "Requirement already satisfied: kaggle in /usr/local/lib/python3.7/dist-packages (1.5.12)\n",
            "Requirement already satisfied: certifi in /usr/local/lib/python3.7/dist-packages (from kaggle) (2022.6.15)\n",
            "Requirement already satisfied: requests in /usr/local/lib/python3.7/dist-packages (from kaggle) (2.23.0)\n",
            "Requirement already satisfied: urllib3 in /usr/local/lib/python3.7/dist-packages (from kaggle) (1.24.3)\n",
            "Requirement already satisfied: python-slugify in /usr/local/lib/python3.7/dist-packages (from kaggle) (6.1.2)\n",
            "Requirement already satisfied: python-dateutil in /usr/local/lib/python3.7/dist-packages (from kaggle) (2.8.2)\n",
            "Requirement already satisfied: tqdm in /usr/local/lib/python3.7/dist-packages (from kaggle) (4.64.1)\n",
            "Requirement already satisfied: six>=1.10 in /usr/local/lib/python3.7/dist-packages (from kaggle) (1.15.0)\n",
            "Requirement already satisfied: text-unidecode>=1.3 in /usr/local/lib/python3.7/dist-packages (from python-slugify->kaggle) (1.3)\n",
            "Requirement already satisfied: chardet<4,>=3.0.2 in /usr/local/lib/python3.7/dist-packages (from requests->kaggle) (3.0.4)\n",
            "Requirement already satisfied: idna<3,>=2.5 in /usr/local/lib/python3.7/dist-packages (from requests->kaggle) (2.10)\n",
            "Warning: Your Kaggle API key is readable by other users on this system! To fix this, you can run 'chmod 600 /root/.kaggle/kaggle.json'\n",
            "Downloading labeled-mask-dataset-yolo-darknet.zip to /content\n",
            " 89% 112M/126M [00:02<00:00, 80.6MB/s] \n",
            "100% 126M/126M [00:02<00:00, 52.2MB/s]\n"
          ]
        }
      ],
      "source": [
        "! pip install kaggle\n",
        "! mkdir ~/.kaggle\n",
        "! cp kaggle.json ~/.kaggle/\n",
        "\n",
        "! kaggle datasets download techzizou/labeled-mask-dataset-yolo-darknet"
      ]
    },
    {
      "cell_type": "code",
      "source": [
        "import os\n",
        "import shutil\n",
        "import random\n",
        "import sys\n",
        "from tqdm import tqdm\n",
        "\n",
        "import torch\n",
        "\n",
        "from IPython.display import display\n",
        "from PIL import Image\n",
        "from zipfile import ZipFile"
      ],
      "metadata": {
        "id": "zXjD7XuhTGjL"
      },
      "execution_count": 3,
      "outputs": []
    },
    {
      "cell_type": "markdown",
      "source": [
        "**Unzip:**"
      ],
      "metadata": {
        "id": "-WWxw8xvTDAm"
      }
    },
    {
      "cell_type": "code",
      "source": [
        "zip = ZipFile('labeled-mask-dataset-yolo-darknet.zip')\n",
        "zip.extractall()"
      ],
      "metadata": {
        "id": "-KcBStp_S5GE"
      },
      "execution_count": null,
      "outputs": []
    },
    {
      "cell_type": "code",
      "source": [
        "zfile='labeled-mask-dataset-yolo-darknet.zip'\n",
        "if os.path.isfile(zfile):\n",
        "  shutil.unpack_archive(zfile, \"Dataset\")"
      ],
      "metadata": {
        "id": "9nflmhaxpnxW"
      },
      "execution_count": 4,
      "outputs": []
    },
    {
      "cell_type": "markdown",
      "source": [
        "**Imports:**"
      ],
      "metadata": {
        "id": "d5NnTPURW3IM"
      }
    },
    {
      "cell_type": "markdown",
      "source": [
        "**Creating Folder Structure for Dataset:**"
      ],
      "metadata": {
        "id": "EMKKmkv7T7kb"
      }
    },
    {
      "cell_type": "code",
      "source": [
        "full_path= '/content/Dataset/obj/'\n",
        "image_path= '/content/Dataset/images/'\n",
        "label_path= '/content/Dataset/labels/'\n",
        "\n",
        "if os.path.exists(image_path):\n",
        "    shutil.rmtree(image_path)\n",
        "\n",
        "if os.path.exists(label_path):\n",
        "    shutil.rmtree(label_path)   \n",
        "\n",
        "os.mkdir(image_path)\n",
        "os.mkdir(label_path)"
      ],
      "metadata": {
        "id": "upv2egkfX-pG"
      },
      "execution_count": 10,
      "outputs": []
    },
    {
      "cell_type": "code",
      "source": [
        "#train and val directories\n",
        "\n",
        "train_img_path= image_path + 'training/'\n",
        "os.mkdir(train_img_path)\n",
        "\n",
        "train_label_path= label_path + 'training/'\n",
        "os.mkdir(train_label_path)\n",
        "\n",
        "val_img_path= image_path + 'validation/'\n",
        "os.mkdir(val_img_path)\n",
        "\n",
        "val_label_path= label_path +'validation/'\n",
        "os.mkdir(val_label_path)"
      ],
      "metadata": {
        "id": "4iccQirlYtMg"
      },
      "execution_count": 11,
      "outputs": []
    },
    {
      "cell_type": "code",
      "source": [
        "files= []\n",
        "extension= '.jpg'\n",
        "x_len= len(extension)\n",
        "splitnum= 90 #defining 90:10 split for train and val\n",
        "\n",
        "#filename w/o extension\n",
        "for r, d, f in os.walk(full_path):\n",
        "    for file in f:\n",
        "        if file.endswith(extension):\n",
        "\n",
        "            raw = file[0:len(file) - x_len]      \n",
        "            files.append(raw)\n",
        "\n",
        "random.shuffle(files)\n",
        "size = len(files)                   \n",
        "\n",
        "T_split = int(splitnum * size / 100) #split index"
      ],
      "metadata": {
        "id": "ka5U1VXweN2H"
      },
      "execution_count": 12,
      "outputs": []
    },
    {
      "cell_type": "markdown",
      "source": [
        "**Copying imgs and labels to their respective directories:**"
      ],
      "metadata": {
        "id": "JQc22jGEnJTk"
      }
    },
    {
      "cell_type": "markdown",
      "source": [
        "**Training Data:**"
      ],
      "metadata": {
        "id": "T_kJAKUuhmKV"
      }
    },
    {
      "cell_type": "code",
      "source": [
        "#Train\n",
        "for i in tqdm(range(T_split)):\n",
        "                 \n",
        "    image_file = files[i] + extension\n",
        "\n",
        "    src_image = full_path + image_file\n",
        "\n",
        "    shutil.copy(src_image, train_img_path) #transfer\n",
        "                         \n",
        "    annot_file = files[i] + '.txt'\n",
        "\n",
        "    src_label = full_path + annot_file\n",
        "    shutil.copy(src_label, train_label_path) "
      ],
      "metadata": {
        "colab": {
          "base_uri": "https://localhost:8080/"
        },
        "id": "DZvhnHjJdayO",
        "outputId": "4ae2f212-30a0-4208-bbce-899645271343"
      },
      "execution_count": 15,
      "outputs": [
        {
          "output_type": "stream",
          "name": "stderr",
          "text": [
            "100%|██████████| 1359/1359 [00:00<00:00, 2622.29it/s]\n"
          ]
        }
      ]
    },
    {
      "cell_type": "markdown",
      "source": [
        "**Validation Data:**"
      ],
      "metadata": {
        "id": "abmvZOPHhpFx"
      }
    },
    {
      "cell_type": "code",
      "source": [
        "#Val\n",
        "for i in tqdm(range(T_split, size)):\n",
        "                     \n",
        "    image_file = files[i] + extension\n",
        "\n",
        "    src_image = full_path + image_file\n",
        "\n",
        "    shutil.copy(src_image, val_img_path) \n",
        "                         \n",
        "    annot_file = files[i] + '.txt'\n",
        "\n",
        "    src_label = full_path + annot_file\n",
        "    shutil.copy(src_label, val_label_path) "
      ],
      "metadata": {
        "colab": {
          "base_uri": "https://localhost:8080/"
        },
        "id": "AzHcxMhwhZtd",
        "outputId": "a7a6bffb-05ee-4713-e361-9106a5cd0bf0"
      },
      "execution_count": 16,
      "outputs": [
        {
          "output_type": "stream",
          "name": "stderr",
          "text": [
            "100%|██████████| 151/151 [00:00<00:00, 2143.70it/s]\n"
          ]
        }
      ]
    },
    {
      "cell_type": "markdown",
      "source": [
        "**Installing YOLO v5:**"
      ],
      "metadata": {
        "id": "ChcAvHxRiDmd"
      }
    },
    {
      "cell_type": "code",
      "source": [
        "!git clone https://github.com/ultralytics/yolov5\n",
        "%cd yolov5\n",
        "%pip install -qr requirements.txt #dependencies for yolov5\n",
        "\n",
        "from yolov5 import utils\n",
        "display = utils.notebook_init()"
      ],
      "metadata": {
        "id": "Vqus2ICUTGou",
        "colab": {
          "base_uri": "https://localhost:8080/"
        },
        "outputId": "909d455c-89d8-419c-cf98-8e31c148bbf5"
      },
      "execution_count": 17,
      "outputs": [
        {
          "output_type": "stream",
          "name": "stderr",
          "text": [
            "YOLOv5 🚀 v6.2-186-g7f097dd Python-3.7.14 torch-1.12.1+cu113 CPU\n"
          ]
        },
        {
          "output_type": "stream",
          "name": "stdout",
          "text": [
            "Setup complete ✅ (2 CPUs, 12.7 GB RAM, 37.7/107.7 GB disk)\n"
          ]
        }
      ]
    },
    {
      "cell_type": "markdown",
      "source": [
        "**Training:**"
      ],
      "metadata": {
        "id": "cYa9wLcJnkL2"
      }
    },
    {
      "cell_type": "markdown",
      "source": [
        "yaml file:"
      ],
      "metadata": {
        "id": "e-xD24R-oYL4"
      }
    },
    {
      "cell_type": "code",
      "source": [
        "#Creating a '.yaml' file which specifies the dataset directories to the model\n",
        "\n",
        "f=open('/content/direc.yaml', 'a')\n",
        "\n",
        "f.write(\"train: /content/Dataset/images/training\\n\")\n",
        "f.write(\"val: /content/Dataset/images/validation\\n\")\n",
        "f.write(\"nc: 2\\n\")\n",
        "f.write(\"names: ['with mask', 'without mask']\\n\")\n",
        "\n",
        "f.close()"
      ],
      "metadata": {
        "id": "p4KYk-Y4TGrW"
      },
      "execution_count": 28,
      "outputs": []
    },
    {
      "cell_type": "code",
      "source": [
        "%cd /content/yolov5"
      ],
      "metadata": {
        "colab": {
          "base_uri": "https://localhost:8080/"
        },
        "id": "VxYpv9iNtu0d",
        "outputId": "0fc87e43-73e1-47b2-e876-f4893dd6f6eb"
      },
      "execution_count": 20,
      "outputs": [
        {
          "output_type": "stream",
          "name": "stdout",
          "text": [
            "/content/yolov5\n"
          ]
        }
      ]
    },
    {
      "cell_type": "markdown",
      "source": [
        "Training:"
      ],
      "metadata": {
        "id": "0GatLShihS3r"
      }
    },
    {
      "cell_type": "code",
      "source": [
        "!python train.py --img 640 --batch 16 --epochs 5 --data /content/direc.yaml --weights yolov5s.pt"
      ],
      "metadata": {
        "id": "iDMqw-QcTGuF",
        "colab": {
          "base_uri": "https://localhost:8080/"
        },
        "outputId": "ea37c544-b8ad-45fb-859b-65797ea52770"
      },
      "execution_count": 29,
      "outputs": [
        {
          "output_type": "stream",
          "name": "stdout",
          "text": [
            "\u001b[34m\u001b[1mtrain: \u001b[0mweights=yolov5s.pt, cfg=, data=/content/direc.yaml, hyp=data/hyps/hyp.scratch-low.yaml, epochs=5, batch_size=16, imgsz=640, rect=False, resume=False, nosave=False, noval=False, noautoanchor=False, noplots=False, evolve=None, bucket=, cache=None, image_weights=False, device=, multi_scale=False, single_cls=False, optimizer=SGD, sync_bn=False, workers=8, project=runs/train, name=exp, exist_ok=False, quad=False, cos_lr=False, label_smoothing=0.0, patience=100, freeze=[0], save_period=-1, seed=0, local_rank=-1, entity=None, upload_dataset=False, bbox_interval=-1, artifact_alias=latest\n",
            "\u001b[34m\u001b[1mgithub: \u001b[0mup to date with https://github.com/ultralytics/yolov5 ✅\n",
            "YOLOv5 🚀 v6.2-186-g7f097dd Python-3.7.14 torch-1.12.1+cu113 CPU\n",
            "\n",
            "\u001b[34m\u001b[1mhyperparameters: \u001b[0mlr0=0.01, lrf=0.01, momentum=0.937, weight_decay=0.0005, warmup_epochs=3.0, warmup_momentum=0.8, warmup_bias_lr=0.1, box=0.05, cls=0.5, cls_pw=1.0, obj=1.0, obj_pw=1.0, iou_t=0.2, anchor_t=4.0, fl_gamma=0.0, hsv_h=0.015, hsv_s=0.7, hsv_v=0.4, degrees=0.0, translate=0.1, scale=0.5, shear=0.0, perspective=0.0, flipud=0.0, fliplr=0.5, mosaic=1.0, mixup=0.0, copy_paste=0.0\n",
            "\u001b[34m\u001b[1mWeights & Biases: \u001b[0mrun 'pip install wandb' to automatically track and visualize YOLOv5 🚀 runs in Weights & Biases\n",
            "\u001b[34m\u001b[1mClearML: \u001b[0mrun 'pip install clearml' to automatically track, visualize and remotely train YOLOv5 🚀 in ClearML\n",
            "\u001b[34m\u001b[1mComet: \u001b[0mrun 'pip install comet_ml' to automatically track and visualize YOLOv5 🚀 runs in Comet\n",
            "\u001b[34m\u001b[1mTensorBoard: \u001b[0mStart with 'tensorboard --logdir runs/train', view at http://localhost:6006/\n",
            "Overriding model.yaml nc=80 with nc=2\n",
            "\n",
            "                 from  n    params  module                                  arguments                     \n",
            "  0                -1  1      3520  models.common.Conv                      [3, 32, 6, 2, 2]              \n",
            "  1                -1  1     18560  models.common.Conv                      [32, 64, 3, 2]                \n",
            "  2                -1  1     18816  models.common.C3                        [64, 64, 1]                   \n",
            "  3                -1  1     73984  models.common.Conv                      [64, 128, 3, 2]               \n",
            "  4                -1  2    115712  models.common.C3                        [128, 128, 2]                 \n",
            "  5                -1  1    295424  models.common.Conv                      [128, 256, 3, 2]              \n",
            "  6                -1  3    625152  models.common.C3                        [256, 256, 3]                 \n",
            "  7                -1  1   1180672  models.common.Conv                      [256, 512, 3, 2]              \n",
            "  8                -1  1   1182720  models.common.C3                        [512, 512, 1]                 \n",
            "  9                -1  1    656896  models.common.SPPF                      [512, 512, 5]                 \n",
            " 10                -1  1    131584  models.common.Conv                      [512, 256, 1, 1]              \n",
            " 11                -1  1         0  torch.nn.modules.upsampling.Upsample    [None, 2, 'nearest']          \n",
            " 12           [-1, 6]  1         0  models.common.Concat                    [1]                           \n",
            " 13                -1  1    361984  models.common.C3                        [512, 256, 1, False]          \n",
            " 14                -1  1     33024  models.common.Conv                      [256, 128, 1, 1]              \n",
            " 15                -1  1         0  torch.nn.modules.upsampling.Upsample    [None, 2, 'nearest']          \n",
            " 16           [-1, 4]  1         0  models.common.Concat                    [1]                           \n",
            " 17                -1  1     90880  models.common.C3                        [256, 128, 1, False]          \n",
            " 18                -1  1    147712  models.common.Conv                      [128, 128, 3, 2]              \n",
            " 19          [-1, 14]  1         0  models.common.Concat                    [1]                           \n",
            " 20                -1  1    296448  models.common.C3                        [256, 256, 1, False]          \n",
            " 21                -1  1    590336  models.common.Conv                      [256, 256, 3, 2]              \n",
            " 22          [-1, 10]  1         0  models.common.Concat                    [1]                           \n",
            " 23                -1  1   1182720  models.common.C3                        [512, 512, 1, False]          \n",
            " 24      [17, 20, 23]  1     18879  models.yolo.Detect                      [2, [[10, 13, 16, 30, 33, 23], [30, 61, 62, 45, 59, 119], [116, 90, 156, 198, 373, 326]], [128, 256, 512]]\n",
            "Model summary: 214 layers, 7025023 parameters, 7025023 gradients, 16.0 GFLOPs\n",
            "\n",
            "Transferred 343/349 items from yolov5s.pt\n",
            "\u001b[34m\u001b[1moptimizer:\u001b[0m SGD(lr=0.01) with parameter groups 57 weight(decay=0.0), 60 weight(decay=0.0005), 60 bias\n",
            "\u001b[34m\u001b[1malbumentations: \u001b[0mBlur(p=0.01, blur_limit=(3, 7)), MedianBlur(p=0.01, blur_limit=(3, 7)), ToGray(p=0.01), CLAHE(p=0.01, clip_limit=(1, 4.0), tile_grid_size=(8, 8))\n",
            "\u001b[34m\u001b[1mtrain: \u001b[0mScanning '/content/Dataset/labels/training' images and labels...1359 found, 0 missing, 0 empty, 0 corrupt: 100% 1359/1359 [00:00<00:00, 1506.97it/s]\n",
            "\u001b[34m\u001b[1mtrain: \u001b[0mNew cache created: /content/Dataset/labels/training.cache\n",
            "\u001b[34m\u001b[1mval: \u001b[0mScanning '/content/Dataset/labels/validation' images and labels...151 found, 0 missing, 0 empty, 0 corrupt: 100% 151/151 [00:00<00:00, 675.09it/s]\n",
            "\u001b[34m\u001b[1mval: \u001b[0mNew cache created: /content/Dataset/labels/validation.cache\n",
            "\n",
            "\u001b[34m\u001b[1mAutoAnchor: \u001b[0m4.41 anchors/target, 1.000 Best Possible Recall (BPR). Current anchors are a good fit to dataset ✅\n",
            "Plotting labels to runs/train/exp3/labels.jpg... \n",
            "Image sizes 640 train, 640 val\n",
            "Using 2 dataloader workers\n",
            "Logging results to \u001b[1mruns/train/exp3\u001b[0m\n",
            "Starting training for 5 epochs...\n",
            "\n",
            "      Epoch    GPU_mem   box_loss   obj_loss   cls_loss  Instances       Size\n",
            "        0/4         0G    0.08568    0.03556    0.02239         42        640: 100% 85/85 [32:42<00:00, 23.09s/it]\n",
            "                 Class     Images  Instances          P          R      mAP50   mAP50-95: 100% 5/5 [01:02<00:00, 12.54s/it]\n",
            "                   all        151        270      0.308      0.444      0.297      0.116\n",
            "\n",
            "      Epoch    GPU_mem   box_loss   obj_loss   cls_loss  Instances       Size\n",
            "        1/4         0G    0.05915    0.02919    0.01402         71        640: 100% 85/85 [32:54<00:00, 23.23s/it]\n",
            "                 Class     Images  Instances          P          R      mAP50   mAP50-95: 100% 5/5 [01:00<00:00, 12.13s/it]\n",
            "                   all        151        270      0.475      0.629      0.481      0.234\n",
            "\n",
            "      Epoch    GPU_mem   box_loss   obj_loss   cls_loss  Instances       Size\n",
            "        2/4         0G    0.05361    0.02466    0.01106         42        640: 100% 85/85 [32:55<00:00, 23.25s/it]\n",
            "                 Class     Images  Instances          P          R      mAP50   mAP50-95: 100% 5/5 [01:00<00:00, 12.08s/it]\n",
            "                   all        151        270      0.544      0.678      0.588      0.252\n",
            "\n",
            "      Epoch    GPU_mem   box_loss   obj_loss   cls_loss  Instances       Size\n",
            "        3/4         0G    0.04517    0.02099   0.009387         56        640: 100% 85/85 [33:41<00:00, 23.78s/it]\n",
            "                 Class     Images  Instances          P          R      mAP50   mAP50-95: 100% 5/5 [01:01<00:00, 12.21s/it]\n",
            "                   all        151        270      0.881        0.7      0.801      0.433\n",
            "\n",
            "      Epoch    GPU_mem   box_loss   obj_loss   cls_loss  Instances       Size\n",
            "        4/4         0G    0.04148    0.02021   0.007516         45        640: 100% 85/85 [33:36<00:00, 23.72s/it]\n",
            "                 Class     Images  Instances          P          R      mAP50   mAP50-95: 100% 5/5 [01:00<00:00, 12.19s/it]\n",
            "                   all        151        270      0.812      0.757      0.853      0.507\n",
            "\n",
            "5 epochs completed in 2.850 hours.\n",
            "Optimizer stripped from runs/train/exp3/weights/last.pt, 14.4MB\n",
            "Optimizer stripped from runs/train/exp3/weights/best.pt, 14.4MB\n",
            "\n",
            "Validating runs/train/exp3/weights/best.pt...\n",
            "Fusing layers... \n",
            "Model summary: 157 layers, 7015519 parameters, 0 gradients, 15.8 GFLOPs\n",
            "                 Class     Images  Instances          P          R      mAP50   mAP50-95: 100% 5/5 [00:59<00:00, 11.84s/it]\n",
            "                   all        151        270      0.811      0.752      0.853      0.507\n",
            "             with mask        151        206      0.726      0.837      0.826      0.455\n",
            "          without mask        151         64      0.895      0.667      0.879       0.56\n",
            "Results saved to \u001b[1mruns/train/exp3\u001b[0m\n"
          ]
        }
      ]
    },
    {
      "cell_type": "code",
      "source": [
        "#download\n",
        "#/content/yolov5/runs/train/exp3/weights/best.pt"
      ],
      "metadata": {
        "id": "ypPFqJqqTGy-"
      },
      "execution_count": null,
      "outputs": []
    },
    {
      "cell_type": "markdown",
      "source": [
        "**Testing saved weights:**"
      ],
      "metadata": {
        "id": "RuPPAoosZk3F"
      }
    },
    {
      "cell_type": "code",
      "source": [
        "model = torch.hub.load('ultralytics/yolov5', 'custom', path='/content/yolov5/runs/train/exp3/weights/best.pt')"
      ],
      "metadata": {
        "colab": {
          "base_uri": "https://localhost:8080/"
        },
        "id": "6GdnKXZJYlbu",
        "outputId": "354d4c38-4395-4dfc-bfb7-1761cc8228cb"
      },
      "execution_count": 30,
      "outputs": [
        {
          "output_type": "stream",
          "name": "stderr",
          "text": [
            "/usr/local/lib/python3.7/dist-packages/torch/hub.py:267: UserWarning: You are about to download and run code from an untrusted repository. In a future release, this won't be allowed. To add the repository to your trusted list, change the command to {calling_fn}(..., trust_repo=False) and a command prompt will appear asking for an explicit confirmation of trust, or load(..., trust_repo=True), which will assume that the prompt is to be answered with 'yes'. You can also use load(..., trust_repo='check') which will only prompt for confirmation if the repo is not already trusted. This will eventually be the default behaviour\n",
            "  \"You are about to download and run code from an untrusted repository. In a future release, this won't \"\n",
            "Downloading: \"https://github.com/ultralytics/yolov5/zipball/master\" to /root/.cache/torch/hub/master.zip\n",
            "YOLOv5 🚀 v6.2-186-g7f097dd Python-3.7.14 torch-1.12.1+cu113 CPU\n",
            "\n",
            "Fusing layers... \n",
            "Model summary: 157 layers, 7015519 parameters, 0 gradients, 15.8 GFLOPs\n",
            "Adding AutoShape... \n"
          ]
        }
      ]
    },
    {
      "cell_type": "code",
      "source": [
        "result=model('/content/testimg.jpg')"
      ],
      "metadata": {
        "id": "WWtZ5daJYrnO"
      },
      "execution_count": 31,
      "outputs": []
    },
    {
      "cell_type": "markdown",
      "source": [
        "List of all the detections:"
      ],
      "metadata": {
        "id": "PUlrjFZ-hLx8"
      }
    },
    {
      "cell_type": "code",
      "source": [
        "import pandas as pd\n",
        "res=result.pandas().xyxy[0]\n",
        "df=pd.DataFrame(res)\n",
        "df.drop(\"confidence\", axis=1, inplace=True)\n",
        "df"
      ],
      "metadata": {
        "colab": {
          "base_uri": "https://localhost:8080/",
          "height": 394
        },
        "id": "VvNaaWpfYrq9",
        "outputId": "6e53d287-2575-4f65-8407-2dae6d6dfe55"
      },
      "execution_count": 51,
      "outputs": [
        {
          "output_type": "execute_result",
          "data": {
            "text/plain": [
              "          xmin        ymin        xmax        ymax  class          name\n",
              "0    21.560221   97.041801   57.322872  141.454544      0     with mask\n",
              "1    58.505577   66.048363   85.264931   97.145515      0     with mask\n",
              "2   241.121429  109.645622  269.494690  142.259705      1  without mask\n",
              "3   130.343506  104.619659  160.318466  136.316956      1  without mask\n",
              "4   188.036591  110.959106  213.018509  139.844452      1  without mask\n",
              "5   101.366013   88.576286  128.466995  115.497620      0     with mask\n",
              "6   180.088562   68.529594  199.264603   91.490784      0     with mask\n",
              "7    24.653629  112.447044   53.204311  137.012726      0     with mask\n",
              "8   209.598053  121.412651  246.369354  168.147110      1  without mask\n",
              "9   183.091141   86.700249  210.303055  114.440163      1  without mask\n",
              "10  138.497650   76.608398  162.493958  102.395699      0     with mask"
            ],
            "text/html": [
              "\n",
              "  <div id=\"df-20e9165c-d2d1-4322-b55a-f98af47cb981\">\n",
              "    <div class=\"colab-df-container\">\n",
              "      <div>\n",
              "<style scoped>\n",
              "    .dataframe tbody tr th:only-of-type {\n",
              "        vertical-align: middle;\n",
              "    }\n",
              "\n",
              "    .dataframe tbody tr th {\n",
              "        vertical-align: top;\n",
              "    }\n",
              "\n",
              "    .dataframe thead th {\n",
              "        text-align: right;\n",
              "    }\n",
              "</style>\n",
              "<table border=\"1\" class=\"dataframe\">\n",
              "  <thead>\n",
              "    <tr style=\"text-align: right;\">\n",
              "      <th></th>\n",
              "      <th>xmin</th>\n",
              "      <th>ymin</th>\n",
              "      <th>xmax</th>\n",
              "      <th>ymax</th>\n",
              "      <th>class</th>\n",
              "      <th>name</th>\n",
              "    </tr>\n",
              "  </thead>\n",
              "  <tbody>\n",
              "    <tr>\n",
              "      <th>0</th>\n",
              "      <td>21.560221</td>\n",
              "      <td>97.041801</td>\n",
              "      <td>57.322872</td>\n",
              "      <td>141.454544</td>\n",
              "      <td>0</td>\n",
              "      <td>with mask</td>\n",
              "    </tr>\n",
              "    <tr>\n",
              "      <th>1</th>\n",
              "      <td>58.505577</td>\n",
              "      <td>66.048363</td>\n",
              "      <td>85.264931</td>\n",
              "      <td>97.145515</td>\n",
              "      <td>0</td>\n",
              "      <td>with mask</td>\n",
              "    </tr>\n",
              "    <tr>\n",
              "      <th>2</th>\n",
              "      <td>241.121429</td>\n",
              "      <td>109.645622</td>\n",
              "      <td>269.494690</td>\n",
              "      <td>142.259705</td>\n",
              "      <td>1</td>\n",
              "      <td>without mask</td>\n",
              "    </tr>\n",
              "    <tr>\n",
              "      <th>3</th>\n",
              "      <td>130.343506</td>\n",
              "      <td>104.619659</td>\n",
              "      <td>160.318466</td>\n",
              "      <td>136.316956</td>\n",
              "      <td>1</td>\n",
              "      <td>without mask</td>\n",
              "    </tr>\n",
              "    <tr>\n",
              "      <th>4</th>\n",
              "      <td>188.036591</td>\n",
              "      <td>110.959106</td>\n",
              "      <td>213.018509</td>\n",
              "      <td>139.844452</td>\n",
              "      <td>1</td>\n",
              "      <td>without mask</td>\n",
              "    </tr>\n",
              "    <tr>\n",
              "      <th>5</th>\n",
              "      <td>101.366013</td>\n",
              "      <td>88.576286</td>\n",
              "      <td>128.466995</td>\n",
              "      <td>115.497620</td>\n",
              "      <td>0</td>\n",
              "      <td>with mask</td>\n",
              "    </tr>\n",
              "    <tr>\n",
              "      <th>6</th>\n",
              "      <td>180.088562</td>\n",
              "      <td>68.529594</td>\n",
              "      <td>199.264603</td>\n",
              "      <td>91.490784</td>\n",
              "      <td>0</td>\n",
              "      <td>with mask</td>\n",
              "    </tr>\n",
              "    <tr>\n",
              "      <th>7</th>\n",
              "      <td>24.653629</td>\n",
              "      <td>112.447044</td>\n",
              "      <td>53.204311</td>\n",
              "      <td>137.012726</td>\n",
              "      <td>0</td>\n",
              "      <td>with mask</td>\n",
              "    </tr>\n",
              "    <tr>\n",
              "      <th>8</th>\n",
              "      <td>209.598053</td>\n",
              "      <td>121.412651</td>\n",
              "      <td>246.369354</td>\n",
              "      <td>168.147110</td>\n",
              "      <td>1</td>\n",
              "      <td>without mask</td>\n",
              "    </tr>\n",
              "    <tr>\n",
              "      <th>9</th>\n",
              "      <td>183.091141</td>\n",
              "      <td>86.700249</td>\n",
              "      <td>210.303055</td>\n",
              "      <td>114.440163</td>\n",
              "      <td>1</td>\n",
              "      <td>without mask</td>\n",
              "    </tr>\n",
              "    <tr>\n",
              "      <th>10</th>\n",
              "      <td>138.497650</td>\n",
              "      <td>76.608398</td>\n",
              "      <td>162.493958</td>\n",
              "      <td>102.395699</td>\n",
              "      <td>0</td>\n",
              "      <td>with mask</td>\n",
              "    </tr>\n",
              "  </tbody>\n",
              "</table>\n",
              "</div>\n",
              "      <button class=\"colab-df-convert\" onclick=\"convertToInteractive('df-20e9165c-d2d1-4322-b55a-f98af47cb981')\"\n",
              "              title=\"Convert this dataframe to an interactive table.\"\n",
              "              style=\"display:none;\">\n",
              "        \n",
              "  <svg xmlns=\"http://www.w3.org/2000/svg\" height=\"24px\"viewBox=\"0 0 24 24\"\n",
              "       width=\"24px\">\n",
              "    <path d=\"M0 0h24v24H0V0z\" fill=\"none\"/>\n",
              "    <path d=\"M18.56 5.44l.94 2.06.94-2.06 2.06-.94-2.06-.94-.94-2.06-.94 2.06-2.06.94zm-11 1L8.5 8.5l.94-2.06 2.06-.94-2.06-.94L8.5 2.5l-.94 2.06-2.06.94zm10 10l.94 2.06.94-2.06 2.06-.94-2.06-.94-.94-2.06-.94 2.06-2.06.94z\"/><path d=\"M17.41 7.96l-1.37-1.37c-.4-.4-.92-.59-1.43-.59-.52 0-1.04.2-1.43.59L10.3 9.45l-7.72 7.72c-.78.78-.78 2.05 0 2.83L4 21.41c.39.39.9.59 1.41.59.51 0 1.02-.2 1.41-.59l7.78-7.78 2.81-2.81c.8-.78.8-2.07 0-2.86zM5.41 20L4 18.59l7.72-7.72 1.47 1.35L5.41 20z\"/>\n",
              "  </svg>\n",
              "      </button>\n",
              "      \n",
              "  <style>\n",
              "    .colab-df-container {\n",
              "      display:flex;\n",
              "      flex-wrap:wrap;\n",
              "      gap: 12px;\n",
              "    }\n",
              "\n",
              "    .colab-df-convert {\n",
              "      background-color: #E8F0FE;\n",
              "      border: none;\n",
              "      border-radius: 50%;\n",
              "      cursor: pointer;\n",
              "      display: none;\n",
              "      fill: #1967D2;\n",
              "      height: 32px;\n",
              "      padding: 0 0 0 0;\n",
              "      width: 32px;\n",
              "    }\n",
              "\n",
              "    .colab-df-convert:hover {\n",
              "      background-color: #E2EBFA;\n",
              "      box-shadow: 0px 1px 2px rgba(60, 64, 67, 0.3), 0px 1px 3px 1px rgba(60, 64, 67, 0.15);\n",
              "      fill: #174EA6;\n",
              "    }\n",
              "\n",
              "    [theme=dark] .colab-df-convert {\n",
              "      background-color: #3B4455;\n",
              "      fill: #D2E3FC;\n",
              "    }\n",
              "\n",
              "    [theme=dark] .colab-df-convert:hover {\n",
              "      background-color: #434B5C;\n",
              "      box-shadow: 0px 1px 3px 1px rgba(0, 0, 0, 0.15);\n",
              "      filter: drop-shadow(0px 1px 2px rgba(0, 0, 0, 0.3));\n",
              "      fill: #FFFFFF;\n",
              "    }\n",
              "  </style>\n",
              "\n",
              "      <script>\n",
              "        const buttonEl =\n",
              "          document.querySelector('#df-20e9165c-d2d1-4322-b55a-f98af47cb981 button.colab-df-convert');\n",
              "        buttonEl.style.display =\n",
              "          google.colab.kernel.accessAllowed ? 'block' : 'none';\n",
              "\n",
              "        async function convertToInteractive(key) {\n",
              "          const element = document.querySelector('#df-20e9165c-d2d1-4322-b55a-f98af47cb981');\n",
              "          const dataTable =\n",
              "            await google.colab.kernel.invokeFunction('convertToInteractive',\n",
              "                                                     [key], {});\n",
              "          if (!dataTable) return;\n",
              "\n",
              "          const docLinkHtml = 'Like what you see? Visit the ' +\n",
              "            '<a target=\"_blank\" href=https://colab.research.google.com/notebooks/data_table.ipynb>data table notebook</a>'\n",
              "            + ' to learn more about interactive tables.';\n",
              "          element.innerHTML = '';\n",
              "          dataTable['output_type'] = 'display_data';\n",
              "          await google.colab.output.renderOutput(dataTable, element);\n",
              "          const docLink = document.createElement('div');\n",
              "          docLink.innerHTML = docLinkHtml;\n",
              "          element.appendChild(docLink);\n",
              "        }\n",
              "      </script>\n",
              "    </div>\n",
              "  </div>\n",
              "  "
            ]
          },
          "metadata": {},
          "execution_count": 51
        }
      ]
    },
    {
      "cell_type": "code",
      "source": [
        "!python detect.py --weights /content/yolov5/runs/train/exp3/weights/best.pt --img 640 --conf 0.4 --source /content/testimg.jpg"
      ],
      "metadata": {
        "colab": {
          "base_uri": "https://localhost:8080/"
        },
        "id": "B1r-Yf8xbHl9",
        "outputId": "7ee8886a-eb5e-4128-d7e0-fa6cef979924"
      },
      "execution_count": 64,
      "outputs": [
        {
          "output_type": "stream",
          "name": "stdout",
          "text": [
            "\u001b[34m\u001b[1mdetect: \u001b[0mweights=['/content/yolov5/runs/train/exp3/weights/best.pt'], source=/content/testimg.jpg, data=data/coco128.yaml, imgsz=[640, 640], conf_thres=0.4, iou_thres=0.45, max_det=1000, device=, view_img=False, save_txt=False, save_conf=False, save_crop=False, nosave=False, classes=None, agnostic_nms=False, augment=False, visualize=False, update=False, project=runs/detect, name=exp, exist_ok=False, line_thickness=3, hide_labels=False, hide_conf=False, half=False, dnn=False, vid_stride=1\n",
            "YOLOv5 🚀 v6.2-186-g7f097dd Python-3.7.14 torch-1.12.1+cu113 CPU\n",
            "\n",
            "Fusing layers... \n",
            "Model summary: 157 layers, 7015519 parameters, 0 gradients, 15.8 GFLOPs\n",
            "image 1/1 /content/testimg.jpg: 416x640 1 with mask, 4 without masks, 282.0ms\n",
            "Speed: 2.5ms pre-process, 282.0ms inference, 1.2ms NMS per image at shape (1, 3, 640, 640)\n",
            "Results saved to \u001b[1mruns/detect/exp8\u001b[0m\n"
          ]
        }
      ]
    },
    {
      "cell_type": "code",
      "source": [
        "from IPython.display import display\n",
        "from PIL import Image\n",
        "\n",
        "image_path = \"/content/yolov5/runs/detect/exp8/testimg.jpg\"\n",
        "display(Image.open(image_path))\n",
        "#there is one misclassification "
      ],
      "metadata": {
        "colab": {
          "base_uri": "https://localhost:8080/",
          "height": 196
        },
        "id": "du1gKOemYrwx",
        "outputId": "f057bcee-873b-497b-d994-fa97760a3cd9"
      },
      "execution_count": 65,
      "outputs": [
        {
          "output_type": "display_data",
          "data": {
            "text/plain": [
              "<PIL.JpegImagePlugin.JpegImageFile image mode=RGB size=281x179 at 0x7F3D093ADB10>"
            ],
            "image/png": "[encoded data removed]"
          },
          "metadata": {}
        }
      ]
    }
  ]
}