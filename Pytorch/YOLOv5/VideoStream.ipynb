{
 "cells": [
  {
   "cell_type": "code",
   "execution_count": 4,
   "id": "cf628f5e-05dd-4455-a4a9-b29ac581ba9f",
   "metadata": {},
   "outputs": [
    {
     "name": "stderr",
     "output_type": "stream",
     "text": [
      "Using cache found in C:\\Users\\Abhis/.cache\\torch\\hub\\ultralytics_yolov5_master\n",
      "YOLOv5  2022-10-7 Python-3.9.13 torch-1.12.1+cpu CPU\n",
      "\n",
      "Fusing layers... \n",
      "Model summary: 157 layers, 7015519 parameters, 0 gradients\n",
      "Adding AutoShape... \n"
     ]
    }
   ],
   "source": [
    "import torch\n",
    "import cv2\n",
    "import yaml\n",
    "import pandas\n",
    "import numpy as np\n",
    "from mss import mss\n",
    "from PIL import Image\n",
    "\n",
    "model=torch.hub.load('ultralytics/yolov5', 'custom', path=r'C:\\Users\\Abhis\\Desktop\\YOLO\\weights\\best1.pt')\n",
    "model.conf=0.4"
   ]
  },
  {
   "cell_type": "code",
   "execution_count": null,
   "id": "2b1eb4d4-a7ab-4c79-9ec6-51f9232f0225",
   "metadata": {},
   "outputs": [],
   "source": [
    "results=model(r'C:\\Users\\Abhis\\Desktop\\testimg.jpg')\n",
    "labels, cord = results.xyxyn[0][:, -1], results.xyxyn[0][:, :-1]"
   ]
  },
  {
   "cell_type": "code",
   "execution_count": 7,
   "id": "753af109-bb68-4666-9a21-77cd3a22c33f",
   "metadata": {},
   "outputs": [],
   "source": [
    "sct = mss() #screen capture\n",
    "\n",
    "while 1:\n",
    "    w, h = 1920, 1080 #size\n",
    "\n",
    "    monitor = {'top': 0, 'left': 0, 'width': w, 'height': h} #position\n",
    "    \n",
    "    img = Image.frombytes('RGB', (w,h), sct.grab(monitor).rgb)\n",
    "    \n",
    "    screen = cv2.cvtColor(np.array(img), cv2.COLOR_RGB2BGR)\n",
    "    \n",
    "    results = model(screen)\n",
    "    cv2.imshow('Screen', results.render()[0])\n",
    "b\n",
    "    if cv2.waitKey(25) & 0xFF == ord('q'):\n",
    "        cv2.destroyAllWindows()\n",
    "        break"
   ]
  },
  {
   "cell_type": "code",
   "execution_count": null,
   "id": "b375caab-c26a-48cb-b974-ca1c53ae8f74",
   "metadata": {},
   "outputs": [],
   "source": [
    "path = '/content/yolov5/runs/detect/exp/'\n",
    "for file_name in os.listdir(path):\n",
    "    # construct full file path\n",
    "    file = path + file_name\n",
    "    if os.path.isfile(file):\n",
    "        print('Deleting file:', file)\n",
    "        os.remove(file)"
   ]
  }
 ],
 "metadata": {
  "kernelspec": {
   "display_name": "Python 3 (ipykernel)",
   "language": "python",
   "name": "python3"
  },
  "language_info": {
   "codemirror_mode": {
    "name": "ipython",
    "version": 3
   },
   "file_extension": ".py",
   "mimetype": "text/x-python",
   "name": "python",
   "nbconvert_exporter": "python",
   "pygments_lexer": "ipython3",
   "version": "3.9.13"
  }
 },
 "nbformat": 4,
 "nbformat_minor": 5
}
