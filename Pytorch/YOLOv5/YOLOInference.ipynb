{
 "cells": [
  {
   "cell_type": "code",
   "execution_count": 2,
   "id": "b58b51a6-2041-4365-91ac-a3fb19381652",
   "metadata": {},
   "outputs": [
    {
     "name": "stderr",
     "output_type": "stream",
     "text": [
      "C:\\Users\\Abhis\\anaconda3\\envs\\pytorchenv2\\lib\\site-packages\\tqdm\\auto.py:22: TqdmWarning: IProgress not found. Please update jupyter and ipywidgets. See https://ipywidgets.readthedocs.io/en/stable/user_install.html\n",
      "  from .autonotebook import tqdm as notebook_tqdm\n"
     ]
    }
   ],
   "source": [
    "import torch\n",
    "import cv2\n",
    "import yaml\n",
    "import pandas\n",
    "!python C:/Users/Abhis/Desktop/YOLO/Code/yolov5/detect.py --weights C:/Users/Abhis/Desktop/YOLO/weights/best1.pt --source 0 --conf 0.4"
   ]
  },
  {
   "cell_type": "code",
   "execution_count": null,
   "id": "9c11b879-e5eb-4e4c-a3e8-1eb121686030",
   "metadata": {},
   "outputs": [],
   "source": [
    "model=torch.hub.load('ultralytics/yolov5', 'custom', path=r'C:\\Users\\Abhis\\Desktop\\YOLO\\weights\\best1.pt')\n",
    "model.conf=0.42\n",
    "res=model('C:/Users/Abhis/Desktop/YOLO/imgs/testimg.jpg')\n",
    "result=res.pandas().xyxy[0]\n",
    "result'''"
   ]
  },
  {
   "cell_type": "code",
   "execution_count": null,
   "id": "cd786d16-bc3e-4df8-a7db-9e83d9ec9571",
   "metadata": {},
   "outputs": [],
   "source": [
    "!python C:/Users/Abhis/Desktop/YOLO/Code/yolov5/detect.py --weights C:/Users/Abhis/Desktop/YOLO/weights/best1.pt --source 0 --conf 0.4"
   ]
  },
  {
   "cell_type": "code",
   "execution_count": 13,
   "id": "eb1a6f69-b559-47ec-a749-10dbbb1e70cd",
   "metadata": {},
   "outputs": [],
   "source": [
    "video = cv2.VideoCapture(0)\n",
    "\n",
    "while(video.isOpened()):\n",
    "    \n",
    "    # Read Frame\n",
    "    ret, frame = video.read()\n",
    "    \n",
    "    if not ret:\n",
    "        print('End')\n",
    "        break\n",
    "        \n",
    "    # mask detector yolov5\n",
    "    results = model(frame)\n",
    "    cv2.imshow('Mask Detector', results.render()[0])\n",
    "\n",
    "    if cv2.waitKey(1) == ord('q'): break\n",
    "\n",
    "\n",
    "video.release()\n",
    "cv2.destroyAllWindows()"
   ]
  }
 ],
 "metadata": {
  "kernelspec": {
   "display_name": "Python 3 (ipykernel)",
   "language": "python",
   "name": "python3"
  },
  "language_info": {
   "codemirror_mode": {
    "name": "ipython",
    "version": 3
   },
   "file_extension": ".py",
   "mimetype": "text/x-python",
   "name": "python",
   "nbconvert_exporter": "python",
   "pygments_lexer": "ipython3",
   "version": "3.9.13"
  }
 },
 "nbformat": 4,
 "nbformat_minor": 5
}
