{
  "cells": [
    {
      "cell_type": "code",
      "execution_count": 1,
      "id": "69a9c70a-c86a-4532-8840-0a1e1e0da2d8",
      "metadata": {
        "colab": {
          "base_uri": "https://localhost:8080/"
        },
        "id": "69a9c70a-c86a-4532-8840-0a1e1e0da2d8",
        "outputId": "bd077693-ced2-44e1-d737-bb5929a558ce"
      },
      "outputs": [
        {
          "output_type": "stream",
          "name": "stdout",
          "text": [
            "Looking in indexes: https://pypi.org/simple, https://us-python.pkg.dev/colab-wheels/public/simple/\n",
            "Requirement already satisfied: kaggle in /usr/local/lib/python3.7/dist-packages (1.5.12)\n",
            "Requirement already satisfied: requests in /usr/local/lib/python3.7/dist-packages (from kaggle) (2.23.0)\n",
            "Requirement already satisfied: six>=1.10 in /usr/local/lib/python3.7/dist-packages (from kaggle) (1.15.0)\n",
            "Requirement already satisfied: python-dateutil in /usr/local/lib/python3.7/dist-packages (from kaggle) (2.8.2)\n",
            "Requirement already satisfied: urllib3 in /usr/local/lib/python3.7/dist-packages (from kaggle) (1.24.3)\n",
            "Requirement already satisfied: tqdm in /usr/local/lib/python3.7/dist-packages (from kaggle) (4.64.1)\n",
            "Requirement already satisfied: python-slugify in /usr/local/lib/python3.7/dist-packages (from kaggle) (6.1.2)\n",
            "Requirement already satisfied: certifi in /usr/local/lib/python3.7/dist-packages (from kaggle) (2022.6.15)\n",
            "Requirement already satisfied: text-unidecode>=1.3 in /usr/local/lib/python3.7/dist-packages (from python-slugify->kaggle) (1.3)\n",
            "Requirement already satisfied: idna<3,>=2.5 in /usr/local/lib/python3.7/dist-packages (from requests->kaggle) (2.10)\n",
            "Requirement already satisfied: chardet<4,>=3.0.2 in /usr/local/lib/python3.7/dist-packages (from requests->kaggle) (3.0.4)\n"
          ]
        }
      ],
      "source": [
        "! pip install kaggle"
      ]
    },
    {
      "cell_type": "code",
      "execution_count": 2,
      "id": "6bef8b00-1153-423d-af44-db6437015fae",
      "metadata": {
        "id": "6bef8b00-1153-423d-af44-db6437015fae"
      },
      "outputs": [],
      "source": [
        "! mkdir ~/.kaggle"
      ]
    },
    {
      "cell_type": "code",
      "execution_count": 3,
      "id": "0c81bc80-9325-4d79-8906-07b59b9599c2",
      "metadata": {
        "id": "0c81bc80-9325-4d79-8906-07b59b9599c2"
      },
      "outputs": [],
      "source": [
        "! cp kaggle.json ~/.kaggle/"
      ]
    },
    {
      "cell_type": "code",
      "execution_count": 4,
      "id": "34b09448-3a60-4d95-8a03-3457465ed9ac",
      "metadata": {
        "colab": {
          "base_uri": "https://localhost:8080/"
        },
        "id": "34b09448-3a60-4d95-8a03-3457465ed9ac",
        "outputId": "305e92bd-9739-45f5-845f-887b822b036c"
      },
      "outputs": [
        {
          "output_type": "stream",
          "name": "stdout",
          "text": [
            "Warning: Your Kaggle API key is readable by other users on this system! To fix this, you can run 'chmod 600 /root/.kaggle/kaggle.json'\n",
            "Downloading face-mask-12k-images-dataset.zip to /content\n",
            " 97% 321M/330M [00:08<00:00, 40.6MB/s]\n",
            "100% 330M/330M [00:08<00:00, 41.7MB/s]\n"
          ]
        }
      ],
      "source": [
        "! kaggle datasets download ashishjangra27/face-mask-12k-images-dataset"
      ]
    },
    {
      "cell_type": "markdown",
      "source": [
        "**Dataset:**"
      ],
      "metadata": {
        "id": "vadbmtHGD_oy"
      },
      "id": "vadbmtHGD_oy"
    },
    {
      "cell_type": "code",
      "execution_count": 5,
      "id": "09ae317b-1228-40ce-9eef-5e837faaf396",
      "metadata": {
        "id": "09ae317b-1228-40ce-9eef-5e837faaf396"
      },
      "outputs": [],
      "source": [
        "from zipfile import ZipFile\n",
        "zip = ZipFile('face-mask-12k-images-dataset.zip')\n",
        "zip.extractall()"
      ]
    },
    {
      "cell_type": "markdown",
      "source": [
        "**Imports:**"
      ],
      "metadata": {
        "id": "Fx8CkMzCD6s4"
      },
      "id": "Fx8CkMzCD6s4"
    },
    {
      "cell_type": "code",
      "execution_count": 6,
      "id": "03e5cc34-1c05-4a2d-b77c-c3349ce798cb",
      "metadata": {
        "id": "03e5cc34-1c05-4a2d-b77c-c3349ce798cb"
      },
      "outputs": [],
      "source": [
        "from __future__ import print_function, division\n",
        "\n",
        "import numpy as np\n",
        "import matplotlib.pyplot as plt\n",
        "import time\n",
        "import os\n",
        "import copy\n",
        "\n",
        "\n",
        "import torch\n",
        "import torchvision\n",
        "from torchvision import models, transforms\n",
        "import torch.nn as nn\n",
        "import torch.optim as optim\n",
        "from torch.optim import lr_scheduler\n",
        "import torch.backends.cudnn as cudnn\n",
        "\n",
        "from tqdm import tqdm\n",
        "import albumentations as A\n",
        "from albumentations.pytorch import ToTensorV2\n",
        "\n",
        "\n",
        "cudnn.benchmark=True\n",
        "plt.ion()"
      ]
    },
    {
      "cell_type": "code",
      "execution_count": 7,
      "id": "b171f939-dcc1-4edc-970a-0decb518aff5",
      "metadata": {
        "id": "b171f939-dcc1-4edc-970a-0decb518aff5"
      },
      "outputs": [],
      "source": [
        "from torchvision import datasets"
      ]
    },
    {
      "cell_type": "code",
      "execution_count": 8,
      "id": "e6f113c4-2297-47ab-93df-a0a7bb4f30f1",
      "metadata": {
        "colab": {
          "base_uri": "https://localhost:8080/"
        },
        "id": "e6f113c4-2297-47ab-93df-a0a7bb4f30f1",
        "outputId": "48c58c60-f816-4c8a-d6f8-966b48ac4582"
      },
      "outputs": [
        {
          "output_type": "stream",
          "name": "stdout",
          "text": [
            "cuda\n"
          ]
        }
      ],
      "source": [
        "device=\"cuda\" if torch.cuda.is_available() else \"cpu\"\n",
        "print(device)    "
      ]
    },
    {
      "cell_type": "markdown",
      "source": [
        "Either one:"
      ],
      "metadata": {
        "id": "jjbvn1e1oFyY"
      },
      "id": "jjbvn1e1oFyY"
    },
    {
      "cell_type": "markdown",
      "source": [
        "**Transforms:**"
      ],
      "metadata": {
        "id": "bItoBnjGb0RB"
      },
      "id": "bItoBnjGb0RB"
    },
    {
      "cell_type": "code",
      "execution_count": 86,
      "id": "927dc825-8553-430e-9a32-277756c1dc4e",
      "metadata": {
        "id": "927dc825-8553-430e-9a32-277756c1dc4e"
      },
      "outputs": [],
      "source": [
        "data_transform={\n",
        "    \n",
        "    'Train':transforms.Compose([ #Augmentation + Resize + Normalization\n",
        "        \n",
        "        #Most of these transforms are applied to simulate low res images and to counter the skin colour bias for implementation in the indian demographic as dataset is primarily\n",
        "        #white, washed out and saturated.\n",
        "\n",
        "        transforms.RandomResizedCrop(224), #224 X 224 imgs\n",
        "        transforms.RandomHorizontalFlip(),\n",
        "        transforms.GaussianBlur(kernel_size=(5, 9), sigma=(0.1, 3)), #Blur\n",
        "        transforms.RandomAdjustSharpness(sharpness_factor=2), #Sharpening\n",
        "        transforms.ColorJitter(brightness=(0.1,0.9), saturation=(0.5,0.9)),  #Changing Brightness and saturation \n",
        "        transforms.ToTensor(),                      #ImageNet's mean and SD values\n",
        "        transforms.Normalize([0.485, 0.456, 0.406], #mean across each RGB channel\n",
        "                             [0.229, 0.224, 0.225]) #SD across each RGB channel\n",
        "                                                    #in range of (0,1)\n",
        "    ]),\n",
        "    \n",
        "    'Validation': transforms.Compose([ #Resize + Normalization\n",
        "        \n",
        "        transforms.Resize(224),\n",
        "        transforms.ToTensor(),\n",
        "        transforms.Normalize([0.485, 0.456, 0.406],\n",
        "                             [0.229, 0.224, 0.225])\n",
        "    ]),\n",
        "    \n",
        "}            "
      ]
    },
    {
      "cell_type": "markdown",
      "source": [
        "**Albumentations:**"
      ],
      "metadata": {
        "id": "cy0cwGPEb4pf"
      },
      "id": "cy0cwGPEb4pf"
    },
    {
      "cell_type": "code",
      "source": [
        "data_transform={\n",
        "    \n",
        "    'Train':A.Compose(\n",
        "    [\n",
        "        A.RandomCrop(height=224, width=224),\n",
        "        A.Blur(blur_limit=3),\n",
        "        A.GaussNoise(always_apply=False, p=1.0, mean=-65.42, var_limit=(20.1299991607666, 209.72999572753906)),\n",
        "        A.Normalize(mean=(0.485, 0.456, 0.406), std=(0.229, 0.224, 0.225)),\n",
        "        ToTensorV2(),\n",
        "    ]\n",
        " ),\n",
        "  \n",
        "\n",
        "\n",
        "  'Validation':A.Compose(\n",
        "    [\n",
        "        A.CenterCrop(height=224, width=224),\n",
        "        A.Normalize(mean=(0.485, 0.456, 0.406), std=(0.229, 0.224, 0.225)),\n",
        "        ToTensorV2(),\n",
        "    ]\n",
        " )\n",
        "}"
      ],
      "metadata": {
        "id": "7WAGK_6ub82U"
      },
      "id": "7WAGK_6ub82U",
      "execution_count": 80,
      "outputs": []
    },
    {
      "cell_type": "code",
      "execution_count": 53,
      "id": "84910f55-7407-428c-8b64-008d3fc08a50",
      "metadata": {
        "id": "84910f55-7407-428c-8b64-008d3fc08a50"
      },
      "outputs": [],
      "source": [
        "Path=\"Face Mask Dataset\""
      ]
    },
    {
      "cell_type": "markdown",
      "source": [
        "**Split & DataLoader:**"
      ],
      "metadata": {
        "id": "fGhK9T52D17-"
      },
      "id": "fGhK9T52D17-"
    },
    {
      "cell_type": "code",
      "execution_count": 87,
      "id": "c4231db9-886a-45b1-a66f-7e557f437c95",
      "metadata": {
        "id": "c4231db9-886a-45b1-a66f-7e557f437c95"
      },
      "outputs": [],
      "source": [
        "dataset={x: datasets.ImageFolder(os.path.join(Path, x),data_transform[x]) #splitting into train and val based on folder in dataset\n",
        "          for x in ['Train', 'Validation']\n",
        "        }\n",
        "\n",
        "dataloaders={x:torch.utils.data.DataLoader(dataset[x], batch_size=5,shuffle=True, num_workers=4) #defining dataloader for the model, number of dataset batches=5\n",
        "              for x in ['Train', 'Validation']\n",
        "            }\n",
        "\n",
        "dataset_Size={x:len(dataset[x]) for x in ['Train','Validation']} #Determining size\n",
        "\n",
        "label=dataset['Train'].classes #fetching labels\n",
        "\n",
        "device=torch.device(\"cuda:0\") #prereq for passing data onto the gpu\n"
      ]
    },
    {
      "cell_type": "code",
      "execution_count": 100,
      "id": "5e8b49d9-5180-490c-863a-27b9cbcdfef1",
      "metadata": {
        "colab": {
          "base_uri": "https://localhost:8080/"
        },
        "id": "5e8b49d9-5180-490c-863a-27b9cbcdfef1",
        "outputId": "8410aa2f-9e65-4bff-8958-8f62d518270b"
      },
      "outputs": [
        {
          "output_type": "stream",
          "name": "stdout",
          "text": [
            "{'Train': 10000, 'Validation': 800} ['WithMask', 'WithoutMask']\n"
          ]
        }
      ],
      "source": [
        "print(dataset_Size, label)"
      ]
    },
    {
      "cell_type": "markdown",
      "source": [
        "**Viz func:**"
      ],
      "metadata": {
        "id": "9BPDbZKQDykY"
      },
      "id": "9BPDbZKQDykY"
    },
    {
      "cell_type": "code",
      "execution_count": 91,
      "id": "db17c098-7264-46d8-a3d5-babe641c7972",
      "metadata": {
        "colab": {
          "base_uri": "https://localhost:8080/",
          "height": 131
        },
        "id": "db17c098-7264-46d8-a3d5-babe641c7972",
        "outputId": "4457a5f5-439d-4899-c963-132c50b53612"
      },
      "outputs": [
        {
          "output_type": "display_data",
          "data": {
            "text/plain": [
              "<Figure size 432x288 with 1 Axes>"
            ],
            "image/png": "[encoded data removed]"
          },
          "metadata": {
            "needs_background": "light"
          }
        }
      ],
      "source": [
        "#BoilerPlate code for visualizing images with augs\n",
        "\n",
        "def imshow(inp, title=None):\n",
        "    inp = inp.numpy().transpose((1, 2, 0))\n",
        "    mean = np.array([0.485, 0.456, 0.406])\n",
        "    std = np.array([0.229, 0.224, 0.225])\n",
        "    inp = std * inp + mean\n",
        "    inp = np.clip(inp, 0, 1)\n",
        "    plt.imshow(inp)\n",
        "    if title is not None:\n",
        "        plt.title(title)\n",
        "    plt.pause(0.001)\n",
        "\n",
        "\n",
        "# Get a batch of training data\n",
        "inputs, classes = next(iter(dataloaders['Train']))\n",
        "\n",
        "# Make a grid from batch\n",
        "out = torchvision.utils.make_grid(inputs)\n",
        "\n",
        "imshow(out, title=[label[x] for x in classes])"
      ]
    },
    {
      "cell_type": "markdown",
      "source": [
        "**Training func:**"
      ],
      "metadata": {
        "id": "tqdRPdqyDuaG"
      },
      "id": "tqdRPdqyDuaG"
    },
    {
      "cell_type": "code",
      "execution_count": 92,
      "id": "27c03472-ec98-4570-ba50-68605c060a02",
      "metadata": {
        "id": "27c03472-ec98-4570-ba50-68605c060a02"
      },
      "outputs": [],
      "source": [
        "def training(model, criterion, optimizer, scheduler, epoch_count=20):\n",
        "    \n",
        "    start=time.time() #keep track of initial starting time for calculating elapsed time\n",
        "    \n",
        "    weight_of_BestModel=copy.deepcopy(model.state_dict()) #Initialize variables to save weights and accuracy of the best model that runs through the epoches\n",
        "    \n",
        "    acc_of_BestModel=0.0\n",
        "    \n",
        "    for epoch in range(epoch_count):\n",
        "        \n",
        "        print(f'Epoch Number: {epoch}/{epoch_count-1}') #displaying current epoch\n",
        "        print('_'*20)\n",
        "        \n",
        "        for phase in['Train','Validation']: # 1 epoch = Training phase + Validation phase\n",
        "            \n",
        "            if phase=='Train':\n",
        "                model.train()  #training phase\n",
        "            else:\n",
        "                model.eval() #eval phase\n",
        "            \n",
        "            running_loss=0.0\n",
        "            running_corrects=0\n",
        "            \n",
        "            for inputs, labels in dataloaders[phase]:\n",
        "                \n",
        "                #passing dataset to GPU\n",
        "                \n",
        "                inputs=inputs.to(device)\n",
        "                labels=labels.to(device)\n",
        "                \n",
        "                optimizer.zero_grad() #Zeroing gradients\n",
        "                \n",
        "                #enable gradients for forward pass\n",
        "                \n",
        "                with torch.set_grad_enabled(phase == 'Train'):\n",
        "                    outputs=model(inputs) #passing inputs to model\n",
        "                    _, prediction=torch.max(outputs,1) #(max val of output, preds)\n",
        "                    loss=criterion(outputs, labels) #cross entropy fn b/w predicted output and actual label-->loss function\n",
        "                   \n",
        "                #Optimize for backward pass of Train\n",
        "                \n",
        "                    if phase == \"Train\":\n",
        "                        loss.backward() #calc gradients for backward pass\n",
        "                        optimizer.step() #update parameters for each batch iteration\n",
        "                        \n",
        "                #Claculating loss\n",
        "                \n",
        "                running_loss=running_loss+ loss.item()*inputs.size(0)\n",
        "                running_corrects=running_corrects+torch.sum(prediction==labels.data)\n",
        "                \n",
        "            if phase==\"Train\":\n",
        "                scheduler.step() #change learning rate for each epoch-->lr deacy\n",
        "             \n",
        "            #Calc loss and acc for each epoch\n",
        "            \n",
        "            epoch_loss=running_loss/dataset_Size[phase]\n",
        "            epoch_acc=running_corrects.double() / dataset_Size[phase]\n",
        "            \n",
        "            print(f'{phase} --> Loss: {epoch_loss:.4f} Acc: {epoch_acc:.4f}')\n",
        "            \n",
        "            #Updating acc_of_BestModel and copying weights into weight_of_BestModel if current epoch accuracy is higher  \n",
        "         \n",
        "            if phase==\"Validation\" and epoch_acc>acc_of_BestModel:\n",
        "                acc_of_BestModel=epoch_acc\n",
        "                weight_of_BestModel=copy.deepcopy(model.state_dict())\n",
        "        \n",
        "        print()\n",
        "        \n",
        "    #Calculating elapsed time:\n",
        "    \n",
        "    elapsed_time=time.time()-start\n",
        "    \n",
        "    print(f'Training complete in {elapsed_time // 60:.0f}m {elapsed_time % 60:.0f}s')\n",
        "    #printing highest acc\n",
        "    print(f'Best val Acc: {acc_of_BestModel:4f}')\n",
        "    \n",
        "    #loading weight_of_BestModel\n",
        "    \n",
        "    model.load_state_dict(weight_of_BestModel)\n",
        "    return model\n",
        "    \n",
        "    \n",
        "    "
      ]
    },
    {
      "cell_type": "markdown",
      "source": [
        "**Pred Viz func:**"
      ],
      "metadata": {
        "id": "BZWiN0XvEQvV"
      },
      "id": "BZWiN0XvEQvV"
    },
    {
      "cell_type": "code",
      "execution_count": 101,
      "id": "b6e810ba-49a5-4983-b235-d77d1819ddc1",
      "metadata": {
        "id": "b6e810ba-49a5-4983-b235-d77d1819ddc1"
      },
      "outputs": [],
      "source": [
        "#boilerplate code for visualizing predicted images:\n",
        "\n",
        "def visualize_model(model, num_images=6):\n",
        "    was_training = model.training\n",
        "    model.eval()\n",
        "    images_so_far = 0\n",
        "    fig = plt.figure()\n",
        "\n",
        "    with torch.no_grad():\n",
        "        for i, (inputs, labels) in enumerate(dataloaders['Validation']):\n",
        "            inputs = inputs.to(device)\n",
        "            labels = labels.to(device)\n",
        "\n",
        "            outputs = model(inputs)\n",
        "            _, preds = torch.max(outputs, 1)\n",
        "\n",
        "            for j in range(inputs.size()[0]):\n",
        "                images_so_far += 1\n",
        "                ax = plt.subplot(num_images//2, 2, images_so_far)\n",
        "                ax.axis('off')\n",
        "                ax.set_title(f'predicted: {label[preds[j]]}')\n",
        "                imshow(inputs.cpu().data[j])\n",
        "\n",
        "                if images_so_far == num_images:\n",
        "                    model.train(mode=was_training)\n",
        "                    return\n",
        "        model.train(mode=was_training)"
      ]
    },
    {
      "cell_type": "markdown",
      "source": [
        "Either one:"
      ],
      "metadata": {
        "id": "RPeBkYkN3LtU"
      },
      "id": "RPeBkYkN3LtU"
    },
    {
      "cell_type": "markdown",
      "source": [
        "**Reset FFC layer:**"
      ],
      "metadata": {
        "id": "czSPkaXpAmx_"
      },
      "id": "czSPkaXpAmx_"
    },
    {
      "cell_type": "markdown",
      "source": [
        "Resnet:"
      ],
      "metadata": {
        "id": "d8daIMvLDET7"
      },
      "id": "d8daIMvLDET7"
    },
    {
      "cell_type": "code",
      "source": [
        "model_ft = models.resnet50(pretrained=True)\n",
        "num_ftrs = model_ft.fc.in_features\n",
        "\n",
        "model_ft.fc = nn.Linear(num_ftrs, 2)\n",
        "model_ft = model_ft.to(device)\n",
        "criterion = nn.CrossEntropyLoss()\n",
        "optimizer_ft = optim.SGD(model_ft.parameters(), lr=0.001, momentum=0.9)\n",
        "exp_lr_scheduler = lr_scheduler.StepLR(optimizer_ft, step_size=7, gamma=0.1)"
      ],
      "metadata": {
        "colab": {
          "base_uri": "https://localhost:8080/",
          "height": 156,
          "referenced_widgets": [
            "f9be23fddd70468a8781af9779352cef",
            "0ef141015e8547f2ab7424522369bbd8",
            "cf2651971624470ba02e390b744acca7",
            "b533bb1a2fd449a4b9dd825ffb2813c6",
            "4a89d0c2e2274da1bf076fd0b3ca9075",
            "4f82793765e14c009f7b63c4c251a6be",
            "f152e39f96f94e769d1f313069c64a71",
            "1af6b97eb0b54d6fb4d3e8c6f33d0f88",
            "06b8b05b651a45bd84eda387c2aad99c",
            "2410632113fe459aa44e20c95a43c9e8",
            "4047294f30834b84a3c5fce5ee803ea6"
          ]
        },
        "id": "J1kMQByeAmY5",
        "outputId": "f5fe6b48-a992-4197-98b9-ecc1e7449000"
      },
      "id": "J1kMQByeAmY5",
      "execution_count": 94,
      "outputs": [
        {
          "output_type": "stream",
          "name": "stderr",
          "text": [
            "/usr/local/lib/python3.7/dist-packages/torchvision/models/_utils.py:209: UserWarning: The parameter 'pretrained' is deprecated since 0.13 and will be removed in 0.15, please use 'weights' instead.\n",
            "  f\"The parameter '{pretrained_param}' is deprecated since 0.13 and will be removed in 0.15, \"\n",
            "/usr/local/lib/python3.7/dist-packages/torchvision/models/_utils.py:223: UserWarning: Arguments other than a weight enum or `None` for 'weights' are deprecated since 0.13 and will be removed in 0.15. The current behavior is equivalent to passing `weights=ResNet50_Weights.IMAGENET1K_V1`. You can also use `weights=ResNet50_Weights.DEFAULT` to get the most up-to-date weights.\n",
            "  warnings.warn(msg)\n",
            "Downloading: \"https://download.pytorch.org/models/resnet50-0676ba61.pth\" to /root/.cache/torch/hub/checkpoints/resnet50-0676ba61.pth\n"
          ]
        },
        {
          "output_type": "display_data",
          "data": {
            "text/plain": [
              "  0%|          | 0.00/97.8M [00:00<?, ?B/s]"
            ],
            "application/vnd.jupyter.widget-view+json": {
              "version_major": 2,
              "version_minor": 0,
              "model_id": "f9be23fddd70468a8781af9779352cef"
            }
          },
          "metadata": {}
        }
      ]
    },
    {
      "cell_type": "markdown",
      "source": [
        "**Fixed Feature Extraction:**"
      ],
      "metadata": {
        "id": "A5j-bK8vAijT"
      },
      "id": "A5j-bK8vAijT"
    },
    {
      "cell_type": "code",
      "execution_count": null,
      "id": "7ac73f1c-3b41-416b-b1b4-27417cd53c27",
      "metadata": {
        "id": "7ac73f1c-3b41-416b-b1b4-27417cd53c27"
      },
      "outputs": [],
      "source": [
        "pretrained_model=torchvision.models.resnet34(pretrained=True) #loading pretrained model-resnet34\n",
        "\n",
        "for param in pretrained_model.parameters():\n",
        "    \n",
        "    param.requires_grad=False #freezing network params except for final layer where gradients are not calculated for backward pass\n",
        "\n",
        "#Modifying the last fc layer\n",
        "\n",
        "num_of_ftrs=pretrained_model.fc.in_features # calculating number of inputs for the layers\n",
        "\n",
        "pretrained_model.fc=nn.Linear(num_of_ftrs, 2)\n",
        "\n",
        "#passing to GPU\n",
        "pretrained_model=pretrained_model.to(device)\n",
        "\n",
        "#defining loss fn:\n",
        "\n",
        "criterion=nn.CrossEntropyLoss()\n",
        "\n",
        "optimizer_new=optim.SGD(pretrained_model.fc.parameters(), lr=0.001, momentum=0.9) #optimizer for last fc layer only --> SGD\n",
        "\n",
        "#LR decay by 0.1 factor for every 7 epoches\n",
        "\n",
        "exp_lr_scheduler= lr_scheduler.StepLR(optimizer_new, step_size=7, gamma=0.1)\n",
        "\n",
        "    \n",
        "    "
      ]
    },
    {
      "cell_type": "markdown",
      "source": [
        "**TRAIN:**"
      ],
      "metadata": {
        "id": "FvIxQ39jEVyj"
      },
      "id": "FvIxQ39jEVyj"
    },
    {
      "cell_type": "code",
      "execution_count": 95,
      "id": "65633d5f-99e2-4ed5-bb8c-1bb6a352d668",
      "metadata": {
        "colab": {
          "base_uri": "https://localhost:8080/"
        },
        "id": "65633d5f-99e2-4ed5-bb8c-1bb6a352d668",
        "outputId": "cf27dc39-594c-4039-8a4b-3f2916c409f0"
      },
      "outputs": [
        {
          "output_type": "stream",
          "name": "stdout",
          "text": [
            "Epoch Number: 0/19\n",
            "____________________\n"
          ]
        },
        {
          "output_type": "stream",
          "name": "stderr",
          "text": [
            "/usr/local/lib/python3.7/dist-packages/torch/utils/data/dataloader.py:566: UserWarning: This DataLoader will create 4 worker processes in total. Our suggested max number of worker in current system is 2, which is smaller than what this DataLoader is going to create. Please be aware that excessive worker creation might get DataLoader running slow or even freeze, lower the worker number to avoid potential slowness/freeze if necessary.\n",
            "  cpuset_checked))\n"
          ]
        },
        {
          "output_type": "stream",
          "name": "stdout",
          "text": [
            "Train --> Loss: 0.2419 Acc: 0.9103\n",
            "Validation --> Loss: 0.2280 Acc: 0.9038\n",
            "\n",
            "Epoch Number: 1/19\n",
            "____________________\n",
            "Train --> Loss: 0.0841 Acc: 0.9696\n",
            "Validation --> Loss: 0.1484 Acc: 0.9387\n",
            "\n",
            "Epoch Number: 2/19\n",
            "____________________\n",
            "Train --> Loss: 0.0546 Acc: 0.9808\n",
            "Validation --> Loss: 0.1259 Acc: 0.9563\n",
            "\n",
            "Epoch Number: 3/19\n",
            "____________________\n",
            "Train --> Loss: 0.0413 Acc: 0.9848\n",
            "Validation --> Loss: 0.0045 Acc: 0.9988\n",
            "\n",
            "Epoch Number: 4/19\n",
            "____________________\n",
            "Train --> Loss: 0.0378 Acc: 0.9861\n",
            "Validation --> Loss: 0.2311 Acc: 0.9387\n",
            "\n",
            "Epoch Number: 5/19\n",
            "____________________\n",
            "Train --> Loss: 0.0342 Acc: 0.9875\n",
            "Validation --> Loss: 0.0166 Acc: 0.9950\n",
            "\n",
            "Epoch Number: 6/19\n",
            "____________________\n",
            "Train --> Loss: 0.0364 Acc: 0.9877\n",
            "Validation --> Loss: 0.0345 Acc: 0.9863\n",
            "\n",
            "Epoch Number: 7/19\n",
            "____________________\n",
            "Train --> Loss: 0.0231 Acc: 0.9912\n",
            "Validation --> Loss: 0.0241 Acc: 0.9888\n",
            "\n",
            "Epoch Number: 8/19\n",
            "____________________\n",
            "Train --> Loss: 0.0192 Acc: 0.9930\n",
            "Validation --> Loss: 0.0058 Acc: 0.9988\n",
            "\n",
            "Epoch Number: 9/19\n",
            "____________________\n",
            "Train --> Loss: 0.0160 Acc: 0.9943\n",
            "Validation --> Loss: 0.0323 Acc: 0.9850\n",
            "\n",
            "Epoch Number: 10/19\n",
            "____________________\n",
            "Train --> Loss: 0.0131 Acc: 0.9958\n",
            "Validation --> Loss: 0.0300 Acc: 0.9875\n",
            "\n",
            "Epoch Number: 11/19\n",
            "____________________\n",
            "Train --> Loss: 0.0165 Acc: 0.9946\n",
            "Validation --> Loss: 0.0111 Acc: 0.9962\n",
            "\n",
            "Epoch Number: 12/19\n",
            "____________________\n",
            "Train --> Loss: 0.0161 Acc: 0.9948\n",
            "Validation --> Loss: 0.0091 Acc: 0.9950\n",
            "\n",
            "Epoch Number: 13/19\n",
            "____________________\n",
            "Train --> Loss: 0.0147 Acc: 0.9946\n",
            "Validation --> Loss: 0.0402 Acc: 0.9863\n",
            "\n",
            "Epoch Number: 14/19\n",
            "____________________\n",
            "Train --> Loss: 0.0124 Acc: 0.9957\n",
            "Validation --> Loss: 0.0242 Acc: 0.9900\n",
            "\n",
            "Epoch Number: 15/19\n",
            "____________________\n",
            "Train --> Loss: 0.0163 Acc: 0.9938\n",
            "Validation --> Loss: 0.0044 Acc: 0.9988\n",
            "\n",
            "Epoch Number: 16/19\n",
            "____________________\n",
            "Train --> Loss: 0.0158 Acc: 0.9951\n",
            "Validation --> Loss: 0.0222 Acc: 0.9913\n",
            "\n",
            "Epoch Number: 17/19\n",
            "____________________\n",
            "Train --> Loss: 0.0121 Acc: 0.9959\n",
            "Validation --> Loss: 0.0044 Acc: 1.0000\n",
            "\n",
            "Epoch Number: 18/19\n",
            "____________________\n",
            "Train --> Loss: 0.0147 Acc: 0.9937\n",
            "Validation --> Loss: 0.0440 Acc: 0.9863\n",
            "\n",
            "Epoch Number: 19/19\n",
            "____________________\n",
            "Train --> Loss: 0.0161 Acc: 0.9937\n",
            "Validation --> Loss: 0.0091 Acc: 0.9975\n",
            "\n",
            "Training complete in 48m 42s\n",
            "Best val Acc: 1.000000\n"
          ]
        }
      ],
      "source": [
        "pretrained_model=training(model_ft, criterion, optimizer_ft, exp_lr_scheduler, epoch_count=20)"
      ]
    },
    {
      "cell_type": "markdown",
      "source": [
        "**SAVE:**"
      ],
      "metadata": {
        "id": "yY21u7gNDeKo"
      },
      "id": "yY21u7gNDeKo"
    },
    {
      "cell_type": "code",
      "execution_count": 96,
      "id": "7a38e05d-f4ae-4601-b170-07bbeadb0680",
      "metadata": {
        "id": "7a38e05d-f4ae-4601-b170-07bbeadb0680"
      },
      "outputs": [],
      "source": [
        "torch.save(pretrained_model,'model.pth')\n",
        "torch.save(pretrained_model.state_dict(),'model_weights.pth')"
      ]
    },
    {
      "cell_type": "markdown",
      "source": [
        "**Viz:**"
      ],
      "metadata": {
        "id": "i_3QEyPHEYOE"
      },
      "id": "i_3QEyPHEYOE"
    },
    {
      "cell_type": "code",
      "source": [
        "visualize_model(pretrained_model)\n",
        "plt.ioff()\n",
        "plt.show()"
      ],
      "metadata": {
        "colab": {
          "base_uri": "https://localhost:8080/",
          "height": 581
        },
        "id": "T5S2_HC9EbBN",
        "outputId": "5af59cbd-d795-4a58-c461-dba13abec9a0"
      },
      "id": "T5S2_HC9EbBN",
      "execution_count": 102,
      "outputs": [
        {
          "output_type": "display_data",
          "data": {
            "text/plain": [
              "<Figure size 432x288 with 1 Axes>"
            ],
            "image/png": "[encoded data removed]"
          },
          "metadata": {
            "needs_background": "light"
          }
        },
        {
          "output_type": "display_data",
          "data": {
            "text/plain": [
              "<Figure size 432x288 with 1 Axes>"
            ],
            "image/png": "[encoded data removed]"
          },
          "metadata": {
            "needs_background": "light"
          }
        },
        {
          "output_type": "display_data",
          "data": {
            "text/plain": [
              "<Figure size 432x288 with 1 Axes>"
            ],
            "image/png": "[encoded data removed]"
          },
          "metadata": {
            "needs_background": "light"
          }
        },
        {
          "output_type": "display_data",
          "data": {
            "text/plain": [
              "<Figure size 432x288 with 1 Axes>"
            ],
            "image/png": "[encoded data removed]"
          },
          "metadata": {
            "needs_background": "light"
          }
        },
        {
          "output_type": "display_data",
          "data": {
            "text/plain": [
              "<Figure size 432x288 with 1 Axes>"
            ],
            "image/png": "[encoded data removed]"
          },
          "metadata": {
            "needs_background": "light"
          }
        },
        {
          "output_type": "display_data",
          "data": {
            "text/plain": [
              "<Figure size 432x288 with 1 Axes>"
            ],
            "image/png": "[encoded data removed]"
          },
          "metadata": {
            "needs_background": "light"
          }
        }
      ]
    }
  ],
  "metadata": {
    "kernelspec": {
      "display_name": "Python 3 (ipykernel)",
      "language": "python",
      "name": "python3"
    },
    "language_info": {
      "codemirror_mode": {
        "name": "ipython",
        "version": 3
      },
      "file_extension": ".py",
      "mimetype": "text/x-python",
      "name": "python",
      "nbconvert_exporter": "python",
      "pygments_lexer": "ipython3",
      "version": "3.9.12"
    },
    "colab": {
      "provenance": []
    },
    "gpuClass": "standard",
    "widgets": {
      "application/vnd.jupyter.widget-state+json": {
        "f9be23fddd70468a8781af9779352cef": {
          "model_module": "@jupyter-widgets/controls",
          "model_name": "HBoxModel",
          "model_module_version": "1.5.0",
          "state": {
            "_dom_classes": [],
            "_model_module": "@jupyter-widgets/controls",
            "_model_module_version": "1.5.0",
            "_model_name": "HBoxModel",
            "_view_count": null,
            "_view_module": "@jupyter-widgets/controls",
            "_view_module_version": "1.5.0",
            "_view_name": "HBoxView",
            "box_style": "",
            "children": [
              "IPY_MODEL_0ef141015e8547f2ab7424522369bbd8",
              "IPY_MODEL_cf2651971624470ba02e390b744acca7",
              "IPY_MODEL_b533bb1a2fd449a4b9dd825ffb2813c6"
            ],
            "layout": "IPY_MODEL_4a89d0c2e2274da1bf076fd0b3ca9075"
          }
        },
        "0ef141015e8547f2ab7424522369bbd8": {
          "model_module": "@jupyter-widgets/controls",
          "model_name": "HTMLModel",
          "model_module_version": "1.5.0",
          "state": {
            "_dom_classes": [],
            "_model_module": "@jupyter-widgets/controls",
            "_model_module_version": "1.5.0",
            "_model_name": "HTMLModel",
            "_view_count": null,
            "_view_module": "@jupyter-widgets/controls",
            "_view_module_version": "1.5.0",
            "_view_name": "HTMLView",
            "description": "",
            "description_tooltip": null,
            "layout": "IPY_MODEL_4f82793765e14c009f7b63c4c251a6be",
            "placeholder": "​",
            "style": "IPY_MODEL_f152e39f96f94e769d1f313069c64a71",
            "value": "100%"
          }
        },
        "cf2651971624470ba02e390b744acca7": {
          "model_module": "@jupyter-widgets/controls",
          "model_name": "FloatProgressModel",
          "model_module_version": "1.5.0",
          "state": {
            "_dom_classes": [],
            "_model_module": "@jupyter-widgets/controls",
            "_model_module_version": "1.5.0",
            "_model_name": "FloatProgressModel",
            "_view_count": null,
            "_view_module": "@jupyter-widgets/controls",
            "_view_module_version": "1.5.0",
            "_view_name": "ProgressView",
            "bar_style": "success",
            "description": "",
            "description_tooltip": null,
            "layout": "IPY_MODEL_1af6b97eb0b54d6fb4d3e8c6f33d0f88",
            "max": 102530333,
            "min": 0,
            "orientation": "horizontal",
            "style": "IPY_MODEL_06b8b05b651a45bd84eda387c2aad99c",
            "value": 102530333
          }
        },
        "b533bb1a2fd449a4b9dd825ffb2813c6": {
          "model_module": "@jupyter-widgets/controls",
          "model_name": "HTMLModel",
          "model_module_version": "1.5.0",
          "state": {
            "_dom_classes": [],
            "_model_module": "@jupyter-widgets/controls",
            "_model_module_version": "1.5.0",
            "_model_name": "HTMLModel",
            "_view_count": null,
            "_view_module": "@jupyter-widgets/controls",
            "_view_module_version": "1.5.0",
            "_view_name": "HTMLView",
            "description": "",
            "description_tooltip": null,
            "layout": "IPY_MODEL_2410632113fe459aa44e20c95a43c9e8",
            "placeholder": "​",
            "style": "IPY_MODEL_4047294f30834b84a3c5fce5ee803ea6",
            "value": " 97.8M/97.8M [00:00&lt;00:00, 222MB/s]"
          }
        },
        "4a89d0c2e2274da1bf076fd0b3ca9075": {
          "model_module": "@jupyter-widgets/base",
          "model_name": "LayoutModel",
          "model_module_version": "1.2.0",
          "state": {
            "_model_module": "@jupyter-widgets/base",
            "_model_module_version": "1.2.0",
            "_model_name": "LayoutModel",
            "_view_count": null,
            "_view_module": "@jupyter-widgets/base",
            "_view_module_version": "1.2.0",
            "_view_name": "LayoutView",
            "align_content": null,
            "align_items": null,
            "align_self": null,
            "border": null,
            "bottom": null,
            "display": null,
            "flex": null,
            "flex_flow": null,
            "grid_area": null,
            "grid_auto_columns": null,
            "grid_auto_flow": null,
            "grid_auto_rows": null,
            "grid_column": null,
            "grid_gap": null,
            "grid_row": null,
            "grid_template_areas": null,
            "grid_template_columns": null,
            "grid_template_rows": null,
            "height": null,
            "justify_content": null,
            "justify_items": null,
            "left": null,
            "margin": null,
            "max_height": null,
            "max_width": null,
            "min_height": null,
            "min_width": null,
            "object_fit": null,
            "object_position": null,
            "order": null,
            "overflow": null,
            "overflow_x": null,
            "overflow_y": null,
            "padding": null,
            "right": null,
            "top": null,
            "visibility": null,
            "width": null
          }
        },
        "4f82793765e14c009f7b63c4c251a6be": {
          "model_module": "@jupyter-widgets/base",
          "model_name": "LayoutModel",
          "model_module_version": "1.2.0",
          "state": {
            "_model_module": "@jupyter-widgets/base",
            "_model_module_version": "1.2.0",
            "_model_name": "LayoutModel",
            "_view_count": null,
            "_view_module": "@jupyter-widgets/base",
            "_view_module_version": "1.2.0",
            "_view_name": "LayoutView",
            "align_content": null,
            "align_items": null,
            "align_self": null,
            "border": null,
            "bottom": null,
            "display": null,
            "flex": null,
            "flex_flow": null,
            "grid_area": null,
            "grid_auto_columns": null,
            "grid_auto_flow": null,
            "grid_auto_rows": null,
            "grid_column": null,
            "grid_gap": null,
            "grid_row": null,
            "grid_template_areas": null,
            "grid_template_columns": null,
            "grid_template_rows": null,
            "height": null,
            "justify_content": null,
            "justify_items": null,
            "left": null,
            "margin": null,
            "max_height": null,
            "max_width": null,
            "min_height": null,
            "min_width": null,
            "object_fit": null,
            "object_position": null,
            "order": null,
            "overflow": null,
            "overflow_x": null,
            "overflow_y": null,
            "padding": null,
            "right": null,
            "top": null,
            "visibility": null,
            "width": null
          }
        },
        "f152e39f96f94e769d1f313069c64a71": {
          "model_module": "@jupyter-widgets/controls",
          "model_name": "DescriptionStyleModel",
          "model_module_version": "1.5.0",
          "state": {
            "_model_module": "@jupyter-widgets/controls",
            "_model_module_version": "1.5.0",
            "_model_name": "DescriptionStyleModel",
            "_view_count": null,
            "_view_module": "@jupyter-widgets/base",
            "_view_module_version": "1.2.0",
            "_view_name": "StyleView",
            "description_width": ""
          }
        },
        "1af6b97eb0b54d6fb4d3e8c6f33d0f88": {
          "model_module": "@jupyter-widgets/base",
          "model_name": "LayoutModel",
          "model_module_version": "1.2.0",
          "state": {
            "_model_module": "@jupyter-widgets/base",
            "_model_module_version": "1.2.0",
            "_model_name": "LayoutModel",
            "_view_count": null,
            "_view_module": "@jupyter-widgets/base",
            "_view_module_version": "1.2.0",
            "_view_name": "LayoutView",
            "align_content": null,
            "align_items": null,
            "align_self": null,
            "border": null,
            "bottom": null,
            "display": null,
            "flex": null,
            "flex_flow": null,
            "grid_area": null,
            "grid_auto_columns": null,
            "grid_auto_flow": null,
            "grid_auto_rows": null,
            "grid_column": null,
            "grid_gap": null,
            "grid_row": null,
            "grid_template_areas": null,
            "grid_template_columns": null,
            "grid_template_rows": null,
            "height": null,
            "justify_content": null,
            "justify_items": null,
            "left": null,
            "margin": null,
            "max_height": null,
            "max_width": null,
            "min_height": null,
            "min_width": null,
            "object_fit": null,
            "object_position": null,
            "order": null,
            "overflow": null,
            "overflow_x": null,
            "overflow_y": null,
            "padding": null,
            "right": null,
            "top": null,
            "visibility": null,
            "width": null
          }
        },
        "06b8b05b651a45bd84eda387c2aad99c": {
          "model_module": "@jupyter-widgets/controls",
          "model_name": "ProgressStyleModel",
          "model_module_version": "1.5.0",
          "state": {
            "_model_module": "@jupyter-widgets/controls",
            "_model_module_version": "1.5.0",
            "_model_name": "ProgressStyleModel",
            "_view_count": null,
            "_view_module": "@jupyter-widgets/base",
            "_view_module_version": "1.2.0",
            "_view_name": "StyleView",
            "bar_color": null,
            "description_width": ""
          }
        },
        "2410632113fe459aa44e20c95a43c9e8": {
          "model_module": "@jupyter-widgets/base",
          "model_name": "LayoutModel",
          "model_module_version": "1.2.0",
          "state": {
            "_model_module": "@jupyter-widgets/base",
            "_model_module_version": "1.2.0",
            "_model_name": "LayoutModel",
            "_view_count": null,
            "_view_module": "@jupyter-widgets/base",
            "_view_module_version": "1.2.0",
            "_view_name": "LayoutView",
            "align_content": null,
            "align_items": null,
            "align_self": null,
            "border": null,
            "bottom": null,
            "display": null,
            "flex": null,
            "flex_flow": null,
            "grid_area": null,
            "grid_auto_columns": null,
            "grid_auto_flow": null,
            "grid_auto_rows": null,
            "grid_column": null,
            "grid_gap": null,
            "grid_row": null,
            "grid_template_areas": null,
            "grid_template_columns": null,
            "grid_template_rows": null,
            "height": null,
            "justify_content": null,
            "justify_items": null,
            "left": null,
            "margin": null,
            "max_height": null,
            "max_width": null,
            "min_height": null,
            "min_width": null,
            "object_fit": null,
            "object_position": null,
            "order": null,
            "overflow": null,
            "overflow_x": null,
            "overflow_y": null,
            "padding": null,
            "right": null,
            "top": null,
            "visibility": null,
            "width": null
          }
        },
        "4047294f30834b84a3c5fce5ee803ea6": {
          "model_module": "@jupyter-widgets/controls",
          "model_name": "DescriptionStyleModel",
          "model_module_version": "1.5.0",
          "state": {
            "_model_module": "@jupyter-widgets/controls",
            "_model_module_version": "1.5.0",
            "_model_name": "DescriptionStyleModel",
            "_view_count": null,
            "_view_module": "@jupyter-widgets/base",
            "_view_module_version": "1.2.0",
            "_view_name": "StyleView",
            "description_width": ""
          }
        }
      }
    },
    "accelerator": "GPU"
  },
  "nbformat": 4,
  "nbformat_minor": 5
}